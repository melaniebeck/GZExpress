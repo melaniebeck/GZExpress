{
 "cells": [
  {
   "cell_type": "code",
   "execution_count": 1,
   "metadata": {},
   "outputs": [],
   "source": [
    "import numpy as np\n",
    "import pandas as pd\n",
    "from astropy.table import Table\n",
    "import cPickle\n",
    "\n",
    "import matplotlib.pyplot as plt\n",
    "%matplotlib inline"
   ]
  },
  {
   "cell_type": "code",
   "execution_count": 2,
   "metadata": {},
   "outputs": [],
   "source": [
    "table1 = pd.read_csv(\"../GZ2ASSETS_NAIR_MORPH_MAIN.csv\", usecols=np.arange(0,31,1))\n",
    "table2 = pd.read_csv(\"../gz2sample.csv\")"
   ]
  },
  {
   "cell_type": "code",
   "execution_count": 25,
   "metadata": {},
   "outputs": [
    {
     "data": {
      "text/plain": [
       "Index([u'Unnamed: 0', u'Unnamed: 0.1', u'OBJID', u'RUN', u'RERUN', u'CAMCOL',\n",
       "       u'FIELD', u'OBJ', u'RA', u'DEC', u'PETROR50_R', u'PETROR90_R',\n",
       "       u'PETROMAG_U', u'PETROMAG_G', u'PETROMAG_R', u'PETROMAG_I',\n",
       "       u'PETROMAG_Z', u'PETROMAGERR_U', u'PETROMAGERR_G', u'PETROMAGERR_R',\n",
       "       u'PETROMAGERR_I', u'PETROMAGERR_Z', u'PSFMAG_R', u'FIBERMAG_R',\n",
       "       u'DEVMAG_R', u'DEVMAGERR_R', u'EXPMAG_R', u'EXPMAGERR_R', u'FRACDEV_R',\n",
       "       u'MU50_R', u'EXTINCTION_U', u'EXTINCTION_G', u'EXTINCTION_R',\n",
       "       u'EXTINCTION_I', u'EXTINCTION_Z', u'ROWC_U', u'COLC_U', u'ROWC_G',\n",
       "       u'COLC_G', u'ROWC_R', u'COLC_R', u'ROWC_I', u'COLC_I', u'ROWC_Z',\n",
       "       u'COLC_Z', u'CMODELMAG_R', u'CMODELMAGERR_R', u'REDSHIFT',\n",
       "       u'REDSHIFTERR', u'PETROMAG_MU', u'PETROMAG_MG', u'PETROMAG_MR',\n",
       "       u'PETROMAG_MI', u'PETROMAG_MZ', u'PETROMAGERR_MU', u'PETROMAGERR_MG',\n",
       "       u'PETROMAGERR_MR', u'PETROMAGERR_MI', u'PETROMAGERR_MZ',\n",
       "       u'PETROR50_R_KPC', u'REGION', u'PETROR50_R_KPC_SIMPLE_BIN',\n",
       "       u'PETROMAG_MR_SIMPLE_BIN', u'REDSHIFT_SIMPLE_BIN', u'WVT_BIN', u'bound',\n",
       "       u'accounting', u'bright_count', u'source_density'],\n",
       "      dtype='object')"
      ]
     },
     "execution_count": 25,
     "metadata": {},
     "output_type": "execute_result"
    }
   ],
   "source": [
    "table2.columns"
   ]
  },
  {
   "cell_type": "code",
   "execution_count": null,
   "metadata": {},
   "outputs": [],
   "source": [
    "table3 = pd.read_csv(\"../missing_from_cutouts.csv\", dtype='int64')\n",
    "table3 = table3.rename(index=str, columns={'objid':'OBJID'})\n",
    "\n",
    "table4 = Table.read(\"../SDSSmorphology_full_catalog_92415.fits\").to_pandas()"
   ]
  },
  {
   "cell_type": "code",
   "execution_count": null,
   "metadata": {},
   "outputs": [],
   "source": [
    "table4= table4.rename(index=str, columns={'objid':'OBJID'})"
   ]
  },
  {
   "cell_type": "code",
   "execution_count": null,
   "metadata": {},
   "outputs": [],
   "source": [
    "print len(table4)\n",
    "#print table4['OBJID']\n",
    "#print table1[table1['name']==587730845812064684]"
   ]
  },
  {
   "cell_type": "code",
   "execution_count": null,
   "metadata": {},
   "outputs": [],
   "source": [
    "table1['OBJID'] = table1['name'].copy()"
   ]
  },
  {
   "cell_type": "code",
   "execution_count": null,
   "metadata": {},
   "outputs": [],
   "source": [
    "table = pd.merge(table1, table2, on='OBJID')"
   ]
  },
  {
   "cell_type": "code",
   "execution_count": null,
   "metadata": {},
   "outputs": [],
   "source": [
    "print len(table4)\n",
    "print table4.columns"
   ]
  },
  {
   "cell_type": "markdown",
   "metadata": {},
   "source": [
    "### Which morphology indicators did I settle on? \n",
    "Perfect correlation with table3 above: `SDSSmorphology_full_catalog_92415.fits` morphology indicators measured with elliptical apertures. "
   ]
  },
  {
   "cell_type": "code",
   "execution_count": null,
   "metadata": {},
   "outputs": [],
   "source": [
    "print table1.columns\n",
    "print table4.columns\n",
    "print len(table1), len(table4)\n"
   ]
  },
  {
   "cell_type": "code",
   "execution_count": null,
   "metadata": {},
   "outputs": [],
   "source": [
    "test = pd.merge(table1, table4, on=['OBJID'])"
   ]
  },
  {
   "cell_type": "code",
   "execution_count": null,
   "metadata": {},
   "outputs": [],
   "source": [
    "# What we started with - what we have after the merge\n",
    "# The twelve are likely those S82 objects that snuck into the main sample :(\n",
    "282350-282338"
   ]
  },
  {
   "cell_type": "code",
   "execution_count": null,
   "metadata": {},
   "outputs": [],
   "source": [
    "test.columns"
   ]
  },
  {
   "cell_type": "code",
   "execution_count": null,
   "metadata": {},
   "outputs": [],
   "source": [
    "plt.scatter(test.C_x, test.C_y)\n",
    "plt.scatter(test.M20_x, test.M20_y)\n",
    "plt.scatter(test.A_x, test.A_y)\n",
    "plt.scatter(test.G_x, test.G_y)"
   ]
  },
  {
   "cell_type": "markdown",
   "metadata": {},
   "source": [
    "### Selecting samples for Clean Image examples\n",
    "Estimated the source density for every cutout I made by counting the number of objects in the resulting SExtractor catalog (bright run). Took this value and divided by the area of the image in arcsec (which itself was estimated as ($4\\times(2\\times r_{\\mathrm{Petro}}))^2$)"
   ]
  },
  {
   "cell_type": "code",
   "execution_count": null,
   "metadata": {},
   "outputs": [],
   "source": [
    "#plt.hist(table4.cat,bins=np.arange(0,9,1))"
   ]
  },
  {
   "cell_type": "code",
   "execution_count": 10,
   "metadata": {},
   "outputs": [],
   "source": [
    "table2['source_density'] = table2['bright_count']/(4*2*table2['PETROR90_R'].values)**2"
   ]
  },
  {
   "cell_type": "code",
   "execution_count": 14,
   "metadata": {},
   "outputs": [
    {
     "data": {
      "image/png": "[encoded data removed]",
      "text/plain": [
       "<matplotlib.figure.Figure at 0x7ff599001cd0>"
      ]
     },
     "metadata": {},
     "output_type": "display_data"
    }
   ],
   "source": [
    "h, bins, _ = plt.hist(table2['source_density'].values, range=(0,0.0035))"
   ]
  },
  {
   "cell_type": "code",
   "execution_count": 37,
   "metadata": {},
   "outputs": [
    {
     "name": "stdout",
     "output_type": "stream",
     "text": [
      "215992    587742774014574744\n",
      "259715    588017625610518761\n",
      "175831    587739845384143015\n",
      "123648    587736809373565125\n",
      "255242    588017565489692734\n",
      "231290    588010137337462892\n",
      "24984     587727943493484716\n",
      "264677    588017704008351829\n",
      "146727    587739130805026984\n",
      "152874    587739380984774779\n",
      "Name: OBJID, dtype: int64\n",
      "271891    588017948273868944\n",
      "175138    587739844309614697\n",
      "139048    587738569246572621\n",
      "148993    587739157657813100\n",
      "190806    587741724963700827\n",
      "273619    588017977815793801\n",
      "59541     587731513141166168\n",
      "250903    588016840710225938\n",
      "263819    588017703471939661\n",
      "169271    587739721898000532\n",
      "Name: OBJID, dtype: int64\n",
      "261002    588017627223425127\n",
      "32827     587729150916493474\n",
      "210372    587742577515888730\n",
      "221568    587745243082719480\n",
      "18936     587726031182758080\n",
      "157420    587739408375087286\n",
      "156717    587739407836774602\n",
      "41477     587729653965128046\n",
      "29854     587728907175592203\n",
      "128312    587736946812584133\n",
      "Name: OBJID, dtype: int64\n",
      "128965    587736975809511459\n",
      "136473    587738372209377548\n",
      "187368    587741603104227444\n",
      "130444    587736980111556950\n",
      "225036    587746209446887584\n",
      "147151    587739131353039134\n",
      "98188     587734892747292755\n",
      "239170    588011219679772758\n",
      "120540    587736619858460690\n",
      "174104    587739828215480562\n",
      "Name: OBJID, dtype: int64\n",
      "252225    588016891177336985\n",
      "212598    587742611351929282\n",
      "172973    587739827136233627\n",
      "121233    587736752469835981\n",
      "107308    587735661550698644\n",
      "61839     587731520669614085\n",
      "89698     587733441051820413\n",
      "54751     587731187267272870\n",
      "81208     587732771036463240\n",
      "45728     587730021717311717\n",
      "Name: OBJID, dtype: int64\n",
      "57881     587731511546019881\n",
      "86445     587733399173857397\n",
      "129069    587736975815868487\n",
      "193947    587741829116788915\n",
      "38094     587729386599874568\n",
      "135998    587738197184676229\n",
      "112742    587736477057351843\n",
      "280605    588018055650017397\n",
      "236073    588010930830049759\n",
      "277791    588017990159040723\n",
      "Name: OBJID, dtype: int64\n",
      "201524    587742062122172818\n",
      "198232    587742014912463158\n",
      "119826    587736618246996271\n",
      "59172     587731512612159661\n",
      "54422     587731186744230007\n",
      "257948    588017604682252407\n",
      "24923     587727943489159422\n",
      "199498    587742060547604601\n",
      "266569    588017713119756480\n",
      "149706    587739167579111669\n",
      "Name: OBJID, dtype: int64\n",
      "54582     587731187260850371\n",
      "284491    588023048018657435\n",
      "229420    588009366936027205\n",
      "55190     587731187279528129\n",
      "135074    587738195041058841\n",
      "201483    587742062118961697\n",
      "108944    587735665859297562\n",
      "264996    588017704027291797\n",
      "213548    587742627451109550\n",
      "192963    587741817305760160\n",
      "Name: OBJID, dtype: int64\n",
      "174029    587739828212990180\n",
      "54671     587731187264127170\n",
      "48905     587730846351753294\n",
      "23631     587726102023569608\n",
      "156624    587739407831007337\n",
      "158548    587739459100082210\n",
      "49570     587730847962169555\n",
      "158569    587739459369762860\n",
      "50068     587731172232069284\n",
      "228330    588007005271425191\n",
      "Name: OBJID, dtype: int64\n",
      "157756    587739408401301545\n",
      "18231     587726016157253804\n",
      "147379    587739131888206236\n",
      "171511    587739811037249705\n",
      "27672     587728677930401987\n",
      "22325     587726033859379301\n",
      "170099    587739809953021964\n",
      "48727     587730845815472222\n",
      "264201    588017703489241505\n",
      "163435    587739647811911830\n",
      "Name: OBJID, dtype: int64\n"
     ]
    }
   ],
   "source": [
    "for i in range(len(bins)-1):\n",
    "    objects = table2[(table2['source_density']>bins[i]) & \n",
    "                     (table2['source_density']<bins[i+1])]\n",
    "    idx = np.random.choice(objects['Unnamed: 0'], size=10, replace=False, p=None)\n",
    "    sample = objects.loc[idx]\n",
    "    \n",
    "    print sample[ 'OBJID']"
   ]
  },
  {
   "cell_type": "markdown",
   "metadata": {},
   "source": [
    "### Measured morphologies on how many galaxies?"
   ]
  },
  {
   "cell_type": "code",
   "execution_count": null,
   "metadata": {
    "scrolled": true
   },
   "outputs": [],
   "source": [
    "print \"What Morphologies was I able to Measure?\"\n",
    "\n",
    "print \"All GZ2:\", len(table)\n",
    "#print \"All GZ2 (published):\", len(table[''])\n",
    "print \"Petrosian radius:\", len(table['Rp'].dropna())\n",
    "print \"Concentration:\", len(table['C'].dropna())\n",
    "print \"M20:\", len(table['M20'].dropna())\n",
    "print \"A:\", len(table['A'].dropna())\n",
    "print \"Gini:\", len(table['G'].dropna())\n",
    "print \"elipt:\", len(table['elipt'].dropna())"
   ]
  },
  {
   "cell_type": "code",
   "execution_count": null,
   "metadata": {},
   "outputs": [],
   "source": [
    "table[['OBJID','A']]"
   ]
  },
  {
   "cell_type": "code",
   "execution_count": null,
   "metadata": {},
   "outputs": [],
   "source": [
    "print np.min(table['REDSHIFT']), np.max(table['REDSHIFT'])"
   ]
  },
  {
   "cell_type": "code",
   "execution_count": null,
   "metadata": {},
   "outputs": [],
   "source": [
    "plt.hist(table['REDSHIFT_SIMPLE_BIN'], range=(0, 20))"
   ]
  },
  {
   "cell_type": "code",
   "execution_count": null,
   "metadata": {},
   "outputs": [],
   "source": [
    "zbins = np.unique(table['REDSHIFT_SIMPLE_BIN'])[2:-1]\n",
    "print zbins"
   ]
  },
  {
   "cell_type": "code",
   "execution_count": null,
   "metadata": {},
   "outputs": [],
   "source": []
  },
  {
   "cell_type": "code",
   "execution_count": null,
   "metadata": {},
   "outputs": [],
   "source": [
    "sample = [np.random.choice(table[\"OBJID\"][table['REDSHIFT_SIMPLE_BIN'] == n]) for n in zbins]"
   ]
  },
  {
   "cell_type": "code",
   "execution_count": null,
   "metadata": {},
   "outputs": [],
   "source": [
    "sample"
   ]
  },
  {
   "cell_type": "code",
   "execution_count": null,
   "metadata": {},
   "outputs": [],
   "source": []
  }
 ],
 "metadata": {
  "kernelspec": {
   "display_name": "Python 2",
   "language": "python",
   "name": "python2"
  },
  "language_info": {
   "codemirror_mode": {
    "name": "ipython",
    "version": 2
   },
   "file_extension": ".py",
   "mimetype": "text/x-python",
   "name": "python",
   "nbconvert_exporter": "python",
   "pygments_lexer": "ipython2",
   "version": "2.7.6"
  }
 },
 "nbformat": 4,
 "nbformat_minor": 2
}
