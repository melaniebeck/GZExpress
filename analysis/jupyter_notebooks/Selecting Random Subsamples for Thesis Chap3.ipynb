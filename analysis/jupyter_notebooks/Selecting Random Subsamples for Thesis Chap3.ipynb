{
 "cells": [
  {
   "cell_type": "code",
   "execution_count": 57,
   "metadata": {},
   "outputs": [],
   "source": [
    "import numpy as np\n",
    "import pandas as pd\n",
    "from astropy.table import Table\n",
    "import cPickle\n",
    "\n",
    "import matplotlib.pyplot as plt\n",
    "%matplotlib inline"
   ]
  },
  {
   "cell_type": "code",
   "execution_count": 7,
   "metadata": {},
   "outputs": [],
   "source": [
    "table1 = pd.read_csv(\"../GZ2ASSETS_NAIR_MORPH_MAIN.csv\")\n",
    "table2 = Table.read(\"gz2sample.fits\")"
   ]
  },
  {
   "cell_type": "code",
   "execution_count": 59,
   "metadata": {},
   "outputs": [
    {
     "ename": "ImportError",
     "evalue": "No module named swap.storage",
     "output_type": "error",
     "traceback": [
      "\u001b[0;31m---------------------------------------------------------------------------\u001b[0m",
      "\u001b[0;31mImportError\u001b[0m                               Traceback (most recent call last)",
      "\u001b[0;32m<ipython-input-59-d6d99f84bf20>\u001b[0m in \u001b[0;36m<module>\u001b[0;34m()\u001b[0m\n\u001b[1;32m      1\u001b[0m \u001b[0mfilename\u001b[0m \u001b[0;34m=\u001b[0m \u001b[0;34m\"../S_PLPD5_p5_ff_norand/GZ2_sup_PLPD5_p5_flipfeature2b_metadata.pickle\"\u001b[0m\u001b[0;34m\u001b[0m\u001b[0m\n\u001b[1;32m      2\u001b[0m \u001b[0;32mwith\u001b[0m \u001b[0mopen\u001b[0m\u001b[0;34m(\u001b[0m\u001b[0mfilename\u001b[0m\u001b[0;34m)\u001b[0m \u001b[0;32mas\u001b[0m \u001b[0mF\u001b[0m\u001b[0;34m:\u001b[0m\u001b[0;34m\u001b[0m\u001b[0m\n\u001b[0;32m----> 3\u001b[0;31m     \u001b[0mtable3\u001b[0m \u001b[0;34m=\u001b[0m \u001b[0mcPickle\u001b[0m\u001b[0;34m.\u001b[0m\u001b[0mload\u001b[0m\u001b[0;34m(\u001b[0m\u001b[0mF\u001b[0m\u001b[0;34m)\u001b[0m\u001b[0;34m\u001b[0m\u001b[0m\n\u001b[0m",
      "\u001b[0;31mImportError\u001b[0m: No module named swap.storage"
     ]
    }
   ],
   "source": [
    "filename = \"../S_PLPD5_p5_ff_norand/GZ2_sup_PLPD5_p5_flipfeature2b_metadata.pickle\"\n",
    "with open(filename) as F:\n",
    "    table3 = cPickle.load(F)"
   ]
  },
  {
   "cell_type": "code",
   "execution_count": 10,
   "metadata": {},
   "outputs": [],
   "source": [
    "table2 = table2.to_pandas()"
   ]
  },
  {
   "cell_type": "code",
   "execution_count": 56,
   "metadata": {
    "scrolled": false
   },
   "outputs": [
    {
     "name": "stdout",
     "output_type": "stream",
     "text": [
      "            id                name  total_classifications  \\\n",
      "0            1  587722981736120347                    NaN   \n",
      "1            2  587722981736579107                   43.0   \n",
      "2            3  587722981741363294                   52.0   \n",
      "3            4  587722981741363323                   30.0   \n",
      "4            5  587722981741559888                   53.0   \n",
      "5            6  587722981741625481                   37.0   \n",
      "6            7  587722981741625484                   45.0   \n",
      "7            8  587722981741625520                   43.0   \n",
      "8            9  587722981741625545                   40.0   \n",
      "9           10  587722981741691055                   44.0   \n",
      "10          11  587722981741756545                   40.0   \n",
      "11          12  587722981741756579                   44.0   \n",
      "12          13  587722981741822057                   42.0   \n",
      "13          14  587722981741887560                   39.0   \n",
      "14          15  587722981742018657                   45.0   \n",
      "15          16  587722981742084144                   41.0   \n",
      "16          17  587722981742084303                   43.0   \n",
      "17          18  587722981742149718                   43.0   \n",
      "18          19  587722981742149756                   41.0   \n",
      "19          20  587722981742215305                   41.0   \n",
      "20          21  587722981742346376                   36.0   \n",
      "21          22  587722981742542969                   47.0   \n",
      "22          23  587722981743001771                   48.0   \n",
      "23          24  587722981743067266                   44.0   \n",
      "24          25  587722981743198320                   44.0   \n",
      "25          26  587722981743198327                   44.0   \n",
      "26          27  587722981743198342                   30.0   \n",
      "27          28  587722981743263813                   39.0   \n",
      "28          29  587722981743263878                   39.0   \n",
      "29          30  587722981743394927                   42.0   \n",
      "...        ...                 ...                    ...   \n",
      "295275  295276  588015510367961294                   41.0   \n",
      "295276  295277  588015510368026740                   46.0   \n",
      "295277  295278  588015510368026810                   47.0   \n",
      "295278  295279  588015510368026880                   48.0   \n",
      "295279  295280  588015510368092211                   41.0   \n",
      "295280  295281  588015510368092320                   44.0   \n",
      "295281  295282  588015510368157789                    NaN   \n",
      "295282  295283  588015510368157840                   39.0   \n",
      "295283  295284  588015510368157863                    NaN   \n",
      "295284  295285  588015510368157866                   55.0   \n",
      "295285  295286  588015510368157881                   45.0   \n",
      "295286  295287  588015510368288921                   50.0   \n",
      "295287  295288  588015510368288944                    NaN   \n",
      "295288  295289  588015510368288973                   58.0   \n",
      "295289  295290  588015510368354500                   47.0   \n",
      "295290  295291  588015510368551140                   41.0   \n",
      "295291  295292  588015510368616571                   39.0   \n",
      "295292  295293  588015510368616663                   49.0   \n",
      "295293  295294  588015510368681992                   34.0   \n",
      "295294  295295  588015510368682105                   44.0   \n",
      "295295  295296  588015510368682132                   44.0   \n",
      "295296  295297  588015510368878767                   47.0   \n",
      "295297  295298  588015510368944336                   50.0   \n",
      "295298  295299  588015510369009724                   53.0   \n",
      "295299  295300  588015510369075314                   48.0   \n",
      "295300  295301  588015510369075404                   48.0   \n",
      "295301  295302  588015510369140934                   45.0   \n",
      "295302  295303  588015510369140976                   46.0   \n",
      "295303  295304  588015510636265643                   43.0   \n",
      "295304  295305  588015510636265731                   48.0   \n",
      "\n",
      "        t01_smooth_or_features_a01_smooth_fraction  \\\n",
      "0                                              NaN   \n",
      "1                                            0.628   \n",
      "2                                            0.885   \n",
      "3                                            0.800   \n",
      "4                                            0.811   \n",
      "5                                            0.784   \n",
      "6                                            0.867   \n",
      "7                                            0.907   \n",
      "8                                            0.950   \n",
      "9                                            0.909   \n",
      "10                                           0.800   \n",
      "11                                           0.795   \n",
      "12                                           0.833   \n",
      "13                                           0.846   \n",
      "14                                           0.578   \n",
      "15                                           0.049   \n",
      "16                                           0.860   \n",
      "17                                           0.000   \n",
      "18                                           0.951   \n",
      "19                                           0.854   \n",
      "20                                           0.028   \n",
      "21                                           0.915   \n",
      "22                                           0.625   \n",
      "23                                           0.773   \n",
      "24                                           0.932   \n",
      "25                                           0.023   \n",
      "26                                           0.067   \n",
      "27                                           0.846   \n",
      "28                                           0.821   \n",
      "29                                           0.690   \n",
      "...                                            ...   \n",
      "295275                                       0.171   \n",
      "295276                                       0.804   \n",
      "295277                                       0.617   \n",
      "295278                                       0.771   \n",
      "295279                                       0.805   \n",
      "295280                                       0.841   \n",
      "295281                                         NaN   \n",
      "295282                                       0.051   \n",
      "295283                                         NaN   \n",
      "295284                                       0.655   \n",
      "295285                                       0.422   \n",
      "295286                                       0.540   \n",
      "295287                                         NaN   \n",
      "295288                                       0.448   \n",
      "295289                                       0.830   \n",
      "295290                                       0.683   \n",
      "295291                                       0.846   \n",
      "295292                                       0.265   \n",
      "295293                                       0.000   \n",
      "295294                                       0.841   \n",
      "295295                                       0.818   \n",
      "295296                                       0.723   \n",
      "295297                                       0.900   \n",
      "295298                                       0.321   \n",
      "295299                                       0.875   \n",
      "295300                                       0.896   \n",
      "295301                                       0.800   \n",
      "295302                                       0.891   \n",
      "295303                                       0.372   \n",
      "295304                                       0.646   \n",
      "\n",
      "        t01_smooth_or_features_a02_features_or_disk_fraction  \\\n",
      "0                                                     NaN      \n",
      "1                                                   0.326      \n",
      "2                                                   0.115      \n",
      "3                                                   0.200      \n",
      "4                                                   0.038      \n",
      "5                                                   0.189      \n",
      "6                                                   0.067      \n",
      "7                                                   0.070      \n",
      "8                                                   0.025      \n",
      "9                                                   0.023      \n",
      "10                                                  0.175      \n",
      "11                                                  0.205      \n",
      "12                                                  0.143      \n",
      "13                                                  0.077      \n",
      "14                                                  0.400      \n",
      "15                                                  0.951      \n",
      "16                                                  0.093      \n",
      "17                                                  1.000      \n",
      "18                                                  0.024      \n",
      "19                                                  0.098      \n",
      "20                                                  0.972      \n",
      "21                                                  0.064      \n",
      "22                                                  0.333      \n",
      "23                                                  0.205      \n",
      "24                                                  0.000      \n",
      "25                                                  0.955      \n",
      "26                                                  0.933      \n",
      "27                                                  0.128      \n",
      "28                                                  0.154      \n",
      "29                                                  0.190      \n",
      "...                                                   ...      \n",
      "295275                                              0.829      \n",
      "295276                                              0.152      \n",
      "295277                                              0.340      \n",
      "295278                                              0.188      \n",
      "295279                                              0.098      \n",
      "295280                                              0.136      \n",
      "295281                                                NaN      \n",
      "295282                                              0.949      \n",
      "295283                                                NaN      \n",
      "295284                                              0.309      \n",
      "295285                                              0.556      \n",
      "295286                                              0.440      \n",
      "295287                                                NaN      \n",
      "295288                                              0.500      \n",
      "295289                                              0.149      \n",
      "295290                                              0.293      \n",
      "295291                                              0.103      \n",
      "295292                                              0.653      \n",
      "295293                                              1.000      \n",
      "295294                                              0.091      \n",
      "295295                                              0.136      \n",
      "295296                                              0.255      \n",
      "295297                                              0.040      \n",
      "295298                                              0.585      \n",
      "295299                                              0.062      \n",
      "295300                                              0.021      \n",
      "295301                                              0.178      \n",
      "295302                                              0.065      \n",
      "295303                                              0.605      \n",
      "295304                                              0.333      \n",
      "\n",
      "        t01_smooth_or_features_a03_star_or_artifact_fraction  \n",
      "0                                                     NaN     \n",
      "1                                                   0.047     \n",
      "2                                                   0.000     \n",
      "3                                                   0.000     \n",
      "4                                                   0.151     \n",
      "5                                                   0.027     \n",
      "6                                                   0.067     \n",
      "7                                                   0.023     \n",
      "8                                                   0.025     \n",
      "9                                                   0.068     \n",
      "10                                                  0.025     \n",
      "11                                                  0.000     \n",
      "12                                                  0.024     \n",
      "13                                                  0.077     \n",
      "14                                                  0.022     \n",
      "15                                                  0.000     \n",
      "16                                                  0.047     \n",
      "17                                                  0.000     \n",
      "18                                                  0.024     \n",
      "19                                                  0.049     \n",
      "20                                                  0.000     \n",
      "21                                                  0.021     \n",
      "22                                                  0.042     \n",
      "23                                                  0.023     \n",
      "24                                                  0.068     \n",
      "25                                                  0.023     \n",
      "26                                                  0.000     \n",
      "27                                                  0.026     \n",
      "28                                                  0.026     \n",
      "29                                                  0.119     \n",
      "...                                                   ...     \n",
      "295275                                              0.000     \n",
      "295276                                              0.043     \n",
      "295277                                              0.043     \n",
      "295278                                              0.042     \n",
      "295279                                              0.098     \n",
      "295280                                              0.023     \n",
      "295281                                                NaN     \n",
      "295282                                              0.000     \n",
      "295283                                                NaN     \n",
      "295284                                              0.036     \n",
      "295285                                              0.022     \n",
      "295286                                              0.020     \n",
      "295287                                                NaN     \n",
      "295288                                              0.052     \n",
      "295289                                              0.021     \n",
      "295290                                              0.024     \n",
      "295291                                              0.051     \n",
      "295292                                              0.082     \n",
      "295293                                              0.000     \n",
      "295294                                              0.068     \n",
      "295295                                              0.045     \n",
      "295296                                              0.021     \n",
      "295297                                              0.060     \n",
      "295298                                              0.094     \n",
      "295299                                              0.062     \n",
      "295300                                              0.083     \n",
      "295301                                              0.022     \n",
      "295302                                              0.043     \n",
      "295303                                              0.023     \n",
      "295304                                              0.021     \n",
      "\n",
      "[295305 rows x 6 columns]\n"
     ]
    }
   ],
   "source": [
    "print table3"
   ]
  },
  {
   "cell_type": "code",
   "execution_count": 14,
   "metadata": {},
   "outputs": [],
   "source": [
    "table1['OBJID'] = table1['name'].copy()"
   ]
  },
  {
   "cell_type": "code",
   "execution_count": 15,
   "metadata": {},
   "outputs": [],
   "source": [
    "table = pd.merge(table1, table2, on='OBJID')"
   ]
  },
  {
   "cell_type": "code",
   "execution_count": 26,
   "metadata": {},
   "outputs": [
    {
     "name": "stdout",
     "output_type": "stream",
     "text": [
      "0.000504372 0.249832\n"
     ]
    }
   ],
   "source": [
    "print np.min(table['REDSHIFT']), np.max(table['REDSHIFT'])"
   ]
  },
  {
   "cell_type": "code",
   "execution_count": 34,
   "metadata": {},
   "outputs": [
    {
     "data": {
      "text/plain": [
       "(array([ 20764.,  39756.,  46793.,  52847.,  33145.,  25103.,  15840.,\n",
       "             0.,      0.,      0.]),\n",
       " array([  0.,   2.,   4.,   6.,   8.,  10.,  12.,  14.,  16.,  18.,  20.]),\n",
       " <a list of 10 Patch objects>)"
      ]
     },
     "execution_count": 34,
     "metadata": {},
     "output_type": "execute_result"
    },
    {
     "data": {
      "image/png": "[encoded data removed]",
      "text/plain": [
       "<matplotlib.figure.Figure at 0x7fa8f26e5950>"
      ]
     },
     "metadata": {},
     "output_type": "display_data"
    }
   ],
   "source": [
    "plt.hist(table['REDSHIFT_SIMPLE_BIN'], range=(0, 20))"
   ]
  },
  {
   "cell_type": "code",
   "execution_count": 48,
   "metadata": {},
   "outputs": [
    {
     "name": "stdout",
     "output_type": "stream",
     "text": [
      "[ 0  1  2  3  4  5  6  7  8  9 10 11 12 13]\n"
     ]
    }
   ],
   "source": [
    "zbins = np.unique(table['REDSHIFT_SIMPLE_BIN'])[2:-1]\n",
    "print zbins"
   ]
  },
  {
   "cell_type": "code",
   "execution_count": 31,
   "metadata": {},
   "outputs": [],
   "source": []
  },
  {
   "cell_type": "code",
   "execution_count": 50,
   "metadata": {},
   "outputs": [],
   "source": [
    "sample = [np.random.choice(table[\"OBJID\"][table['REDSHIFT_SIMPLE_BIN'] == n]) for n in zbins]"
   ]
  },
  {
   "cell_type": "code",
   "execution_count": 51,
   "metadata": {},
   "outputs": [
    {
     "data": {
      "text/plain": [
       "[587741603099770951,\n",
       " 587738195584090228,\n",
       " 587733399179362335,\n",
       " 587731186187829751,\n",
       " 587731870169497762,\n",
       " 587739609160548465,\n",
       " 587741421641072811,\n",
       " 587742864746545281,\n",
       " 587730846355292691,\n",
       " 587732592257073257,\n",
       " 588297864190623826,\n",
       " 587731186188288459,\n",
       " 587729753280545079,\n",
       " 587729226612473932]"
      ]
     },
     "execution_count": 51,
     "metadata": {},
     "output_type": "execute_result"
    }
   ],
   "source": [
    "sample"
   ]
  },
  {
   "cell_type": "code",
   "execution_count": null,
   "metadata": {},
   "outputs": [],
   "source": []
  }
 ],
 "metadata": {
  "kernelspec": {
   "display_name": "Python 2",
   "language": "python",
   "name": "python2"
  },
  "language_info": {
   "codemirror_mode": {
    "name": "ipython",
    "version": 2
   },
   "file_extension": ".py",
   "mimetype": "text/x-python",
   "name": "python",
   "nbconvert_exporter": "python",
   "pygments_lexer": "ipython2",
   "version": "2.7.6"
  }
 },
 "nbformat": 4,
 "nbformat_minor": 2
}
